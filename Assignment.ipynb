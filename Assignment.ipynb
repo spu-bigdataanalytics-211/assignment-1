{
 "metadata": {
  "language_info": {
   "codemirror_mode": {
    "name": "ipython",
    "version": 3
   },
   "file_extension": ".py",
   "mimetype": "text/x-python",
   "name": "python",
   "nbconvert_exporter": "python",
   "pygments_lexer": "ipython3",
   "version": 3
  },
  "orig_nbformat": 2
 },
 "nbformat": 4,
 "nbformat_minor": 2,
 "cells": [
  {
   "source": [
    "# Assignment 1"
   ],
   "cell_type": "markdown",
   "metadata": {}
  },
  {
   "cell_type": "code",
   "execution_count": null,
   "metadata": {},
   "outputs": [],
   "source": [
    "Create a function to find nth number within the fibonacci series"
   ]
  },
  {
   "cell_type": "code",
   "execution_count": null,
   "metadata": {},
   "outputs": [],
   "source": []
  },
  {
   "cell_type": "code",
   "execution_count": null,
   "metadata": {},
   "outputs": [],
   "source": [
    "Create a decorator function that prints before and after the execution of the function it is used with."
   ]
  },
  {
   "cell_type": "code",
   "execution_count": null,
   "metadata": {},
   "outputs": [],
   "source": []
  },
  {
   "source": [
    "Create a generator function with name `counter_until` that returns current count, starting from 1, until given number.\n",
    "\n",
    "- Function should get one arguments, stop_number.\n",
    "- Function should create a generator.\n",
    "- Generator, when called, should return integer, from 1 to n, if n > stop_number, then it should stop generating new numbers.\n",
    "- Use generator to generate first 7 numbers, without throwing StopIteration."
   ],
   "cell_type": "markdown",
   "metadata": {}
  },
  {
   "cell_type": "code",
   "execution_count": null,
   "metadata": {},
   "outputs": [],
   "source": []
  },
  {
   "source": [
    "The series of `1^1 + 2^2 + 3^3 + ... + 10^10` equals to 10405071317. Find the last 10 digits of the following series: `1^1 + 2^2 + 3^3 + ... + 500^500`. Use reduce function while doing this assignment."
   ],
   "cell_type": "markdown",
   "metadata": {}
  },
  {
   "cell_type": "code",
   "execution_count": null,
   "metadata": {},
   "outputs": [],
   "source": []
  },
  {
   "source": [
    "Find the length of the each item in the list below `(a)`, using `map` function."
   ],
   "cell_type": "markdown",
   "metadata": {}
  },
  {
   "cell_type": "code",
   "execution_count": null,
   "metadata": {},
   "outputs": [],
   "source": [
    "a = ['Python', 'Guido Van Rossom', 'AAAAA', 'BB', 'CCC', range(5)]"
   ]
  },
  {
   "cell_type": "code",
   "execution_count": null,
   "metadata": {},
   "outputs": [],
   "source": []
  },
  {
   "source": [
    "You have three `$20` dollar bills, five `$10` dollar bills, two `$5` dollar bills, and five `$1` dollar bills. How many ways can you make change for a `$100` dollar bill?"
   ],
   "cell_type": "markdown",
   "metadata": {}
  },
  {
   "cell_type": "code",
   "execution_count": null,
   "metadata": {},
   "outputs": [],
   "source": []
  }
 ]
}